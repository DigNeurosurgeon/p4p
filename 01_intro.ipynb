{
 "cells": [
  {
   "cell_type": "markdown",
   "metadata": {},
   "source": [
    "# Introduction\n",
    "\n",
    "- what are we going to do here\n",
    "\n",
    "## Why learn to code?\n",
    "- EU Codeweek\n",
    "- Hour of Code\n",
    "- modern times, data science, machine learning\n",
    "- big data: do you need it?\n",
    "- remove the fear\n",
    "- cross the gap (to scary IT people)\n",
    "\n",
    "## Why you? Why me?\n",
    "- yes, you MD!\n",
    "- been there, done that\n",
    "\n",
    "## Why Python?\n",
    "- Python vs R\n",
    "- Python vs MATLAB\n",
    "- code vs GUI apps\n",
    "- Jupyter notebooks (lab?)\n",
    "\n",
    "## What not?\n",
    "- no \"apps\" for a good reason\n",
    "- no focus on GUI dev\n",
    "\n",
    "## Now what?\n",
    "- basics (python, github)\n",
    "- numerical & scientific computing\n",
    "- pretty plotting\n",
    "- data analysis (what data?)\n",
    "- machine learning / deep learning"
   ]
  },
  {
   "cell_type": "code",
   "execution_count": null,
   "metadata": {},
   "outputs": [],
   "source": []
  }
 ],
 "metadata": {
  "kernelspec": {
   "display_name": "Python 3",
   "language": "python",
   "name": "python3"
  },
  "language_info": {
   "codemirror_mode": {
    "name": "ipython",
    "version": 3
   },
   "file_extension": ".py",
   "mimetype": "text/x-python",
   "name": "python",
   "nbconvert_exporter": "python",
   "pygments_lexer": "ipython3",
   "version": "3.6.3"
  }
 },
 "nbformat": 4,
 "nbformat_minor": 2
}
